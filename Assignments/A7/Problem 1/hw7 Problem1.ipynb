{
 "cells": [
  {
   "cell_type": "markdown",
   "metadata": {},
   "source": [
    "# Assignment 7   Part 1"
   ]
  },
  {
   "cell_type": "markdown",
   "metadata": {},
   "source": [
    "### MACS 30000, Dr. Evans\n",
    "### Zeyu Xu"
   ]
  },
  {
   "cell_type": "markdown",
   "metadata": {},
   "source": [
    "Due Monday, Nov. 26 at 11:30 AM"
   ]
  },
  {
   "cell_type": "markdown",
   "metadata": {},
   "source": [
    "### 1. Unit Testing in Python"
   ]
  },
  {
   "cell_type": "markdown",
   "metadata": {},
   "source": [
    "#### Problem 1 \n",
    "#### Here is my code to test the function, the followings are respectively smallest_factor function (saved as Problem1_a.py), test cases (saved as test_Problem1_a.py) and check code."
   ]
  },
  {
   "cell_type": "code",
   "execution_count": 1,
   "metadata": {},
   "outputs": [],
   "source": [
    "def smallest_factor(n):\n",
    "    \"\"\"Return the smallest prime factor of the positive integer n.\"\"\"\n",
    "    if n == 1: return 1\n",
    "    for i in range(2, int(n**.5)):\n",
    "        if n % i == 0: return i\n",
    "    return n"
   ]
  },
  {
   "cell_type": "code",
   "execution_count": 2,
   "metadata": {},
   "outputs": [],
   "source": [
    "import Problem1_a\n",
    "def test_case():\n",
    "    assert Problem1_a.smallest_factor(9) == 3, \"failed on 9\""
   ]
  },
  {
   "cell_type": "code",
   "execution_count": 3,
   "metadata": {
    "scrolled": true
   },
   "outputs": [
    {
     "name": "stdout",
     "output_type": "stream",
     "text": [
      "============================= test session starts =============================\n",
      "platform win32 -- Python 3.6.4, pytest-4.0.0, py-1.7.0, pluggy-0.8.0\n",
      "rootdir: C:\\Users\\ccb\\Desktop\\Perspective\\persp-analysis_A18\\Assignments\\A7\\Problem 1, inifile:\n",
      "plugins: cov-2.6.0\n",
      "collected 3 items\n",
      "\n",
      "test_Problem1_a.py F                                                     [ 33%]\n",
      "test_Problem1_b.py .                                                     [ 66%]\n",
      "test_Problem1_c.py .                                                     [100%]\n",
      "\n",
      "================================== FAILURES ===================================\n",
      "__________________________________ test_case __________________________________\n",
      "\n",
      "    def test_case():\n",
      ">       assert Problem1_a.smallest_factor(9) == 3, \"failed on 9\"\n",
      "E       AssertionError: failed on 9\n",
      "E       assert 9 == 3\n",
      "E        +  where 9 = <function smallest_factor at 0x000001D091E15C80>(9)\n",
      "E        +    where <function smallest_factor at 0x000001D091E15C80> = Problem1_a.smallest_factor\n",
      "\n",
      "test_Problem1_a.py:3: AssertionError\n",
      "===================== 1 failed, 2 passed in 0.10 seconds ======================\n"
     ]
    }
   ],
   "source": [
    "! py.test"
   ]
  },
  {
   "cell_type": "markdown",
   "metadata": {},
   "source": [
    "#### Here is my correction"
   ]
  },
  {
   "cell_type": "code",
   "execution_count": 4,
   "metadata": {},
   "outputs": [],
   "source": [
    "def smallest_factor(n):\n",
    "    \"\"\"Return the smallest prime factor of the positive integer n.\"\"\"\n",
    "    if n == 1: return 1\n",
    "    for i in range(2, int(n**.5)+1):\n",
    "        if n % i == 0: return i\n",
    "    return n"
   ]
  },
  {
   "cell_type": "markdown",
   "metadata": {},
   "source": [
    "#### Problem 2 \n",
    "#### Here is my code to check my coverage on smallest_factor function"
   ]
  },
  {
   "cell_type": "code",
   "execution_count": 5,
   "metadata": {},
   "outputs": [
    {
     "name": "stdout",
     "output_type": "stream",
     "text": [
      "============================= test session starts =============================\n",
      "platform win32 -- Python 3.6.4, pytest-4.0.0, py-1.7.0, pluggy-0.8.0\n",
      "rootdir: C:\\Users\\ccb\\Desktop\\Perspective\\persp-analysis_A18\\Assignments\\A7\\Problem 1, inifile:\n",
      "plugins: cov-2.6.0\n",
      "collected 3 items\n",
      "\n",
      "test_Problem1_a.py F                                                     [ 33%]\n",
      "test_Problem1_b.py .                                                     [ 66%]\n",
      "test_Problem1_c.py .                                                     [100%]\n",
      "\n",
      "================================== FAILURES ===================================\n",
      "__________________________________ test_case __________________________________\n",
      "\n",
      "    def test_case():\n",
      ">       assert Problem1_a.smallest_factor(9) == 3, \"failed on 9\"\n",
      "E       AssertionError: failed on 9\n",
      "E       assert 9 == 3\n",
      "E        +  where 9 = <function smallest_factor at 0x000001EE0AB727B8>(9)\n",
      "E        +    where <function smallest_factor at 0x000001EE0AB727B8> = Problem1_a.smallest_factor\n",
      "\n",
      "test_Problem1_a.py:3: AssertionError\n",
      "\n",
      "----------- coverage: platform win32, python 3.6.4-final-0 -----------\n",
      "Name                 Stmts   Miss  Cover\n",
      "----------------------------------------\n",
      "Problem1_a.py            5      0   100%\n",
      "Problem1_b.py           10      0   100%\n",
      "Problem1_c.py           14      0   100%\n",
      "test_Problem1_a.py       3      0   100%\n",
      "test_Problem1_b.py       7      0   100%\n",
      "test_Problem1_c.py       9      0   100%\n",
      "----------------------------------------\n",
      "TOTAL                   48      0   100%\n",
      "\n",
      "===================== 1 failed, 2 passed in 0.09 seconds ======================\n"
     ]
    }
   ],
   "source": [
    "! py.test --cov"
   ]
  },
  {
   "cell_type": "markdown",
   "metadata": {},
   "source": [
    "#### Here is my code to test month_length function, the followings are respectively month_length function (saved as Problem1_b.py), test cases (saved as test_Problem1_b.py) and check code."
   ]
  },
  {
   "cell_type": "code",
   "execution_count": 6,
   "metadata": {},
   "outputs": [],
   "source": [
    "def month_length(month, leap_year=False):\n",
    "    \"\"\"Return the number of days in the given month.\"\"\"\n",
    "    if month in {\"September\", \"April\", \"June\", \"November\"}:\n",
    "        return 30\n",
    "    elif month in {\"January\", \"March\", \"May\", \"July\",\"August\", \"October\", \"December\"}:\n",
    "        return 31\n",
    "    if month == \"February\":\n",
    "        if not leap_year:\n",
    "            return 28\n",
    "        else:\n",
    "            return 29\n",
    "    else:\n",
    "        return None"
   ]
  },
  {
   "cell_type": "code",
   "execution_count": 7,
   "metadata": {},
   "outputs": [],
   "source": [
    "import Problem1_b\n",
    "def test_cases():\n",
    "    assert Problem1_b.month_length(\"September\") == 30, \"False Function\"\n",
    "    assert Problem1_b.month_length(\"March\") == 31, \"False Function\"\n",
    "    assert Problem1_b.month_length(\"February\") == 28, \"False Function\"\n",
    "    assert Problem1_b.month_length(\"February\", leap_year = True) == 29, \"False Function\"\n",
    "    assert Problem1_b.month_length(3) == None, \"False Function\""
   ]
  },
  {
   "cell_type": "code",
   "execution_count": 8,
   "metadata": {},
   "outputs": [
    {
     "name": "stdout",
     "output_type": "stream",
     "text": [
      "============================= test session starts =============================\n",
      "platform win32 -- Python 3.6.4, pytest-4.0.0, py-1.7.0, pluggy-0.8.0\n",
      "rootdir: C:\\Users\\ccb\\Desktop\\Perspective\\persp-analysis_A18\\Assignments\\A7\\Problem 1, inifile:\n",
      "plugins: cov-2.6.0\n",
      "collected 3 items\n",
      "\n",
      "test_Problem1_a.py F                                                     [ 33%]\n",
      "test_Problem1_b.py .                                                     [ 66%]\n",
      "test_Problem1_c.py .                                                     [100%]\n",
      "\n",
      "================================== FAILURES ===================================\n",
      "__________________________________ test_case __________________________________\n",
      "\n",
      "    def test_case():\n",
      ">       assert Problem1_a.smallest_factor(9) == 3, \"failed on 9\"\n",
      "E       AssertionError: failed on 9\n",
      "E       assert 9 == 3\n",
      "E        +  where 9 = <function smallest_factor at 0x000001FF5CBA07B8>(9)\n",
      "E        +    where <function smallest_factor at 0x000001FF5CBA07B8> = Problem1_a.smallest_factor\n",
      "\n",
      "test_Problem1_a.py:3: AssertionError\n",
      "\n",
      "----------- coverage: platform win32, python 3.6.4-final-0 -----------\n",
      "Name                 Stmts   Miss  Cover\n",
      "----------------------------------------\n",
      "Problem1_a.py            5      0   100%\n",
      "Problem1_b.py           10      0   100%\n",
      "Problem1_c.py           14      0   100%\n",
      "test_Problem1_a.py       3      0   100%\n",
      "test_Problem1_b.py       7      0   100%\n",
      "test_Problem1_c.py       9      0   100%\n",
      "----------------------------------------\n",
      "TOTAL                   48      0   100%\n",
      "\n",
      "===================== 1 failed, 2 passed in 0.09 seconds ======================\n"
     ]
    }
   ],
   "source": [
    "! py.test --cov"
   ]
  },
  {
   "cell_type": "markdown",
   "metadata": {},
   "source": [
    "#### Problem 3 \n",
    "#### Here is my code to test operator function and check coverage, the followings are respectively operator function (saved as Problem1_c.py), test cases (saved as test_Problem1_c.py) and check code."
   ]
  },
  {
   "cell_type": "code",
   "execution_count": 9,
   "metadata": {},
   "outputs": [],
   "source": [
    "def operate(a, b, oper):\n",
    "    \"\"\"Apply an arithmetic operation to a and b.\"\"\"\n",
    "    if type(oper) is not str:\n",
    "        raise TypeError(\"oper must be a string\")\n",
    "    elif oper == '+':\n",
    "        return a + b\n",
    "    elif oper == '-':\n",
    "        return a - b\n",
    "    elif oper == '*':\n",
    "        return a * b\n",
    "    elif oper == '/':\n",
    "        if b == 0:\n",
    "            raise ZeroDivisionError(\"division by zero is undefined\")\n",
    "        return a / b\n",
    "    raise ValueError(\"oper must be one of '+', '/', '-', or '*'\")"
   ]
  },
  {
   "cell_type": "code",
   "execution_count": 10,
   "metadata": {},
   "outputs": [],
   "source": [
    "import Problem1_c, pytest\n",
    "def test_cases():\n",
    "    assert Problem1_c.operate(1,2,\"+\") == 3, \"False Function\"\n",
    "    assert Problem1_c.operate(1,2,\"-\") == -1, \"False Function\"\n",
    "    assert Problem1_c.operate(1,2,\"*\") == 2, \"False Function\"\n",
    "    assert Problem1_c.operate(1,2,\"/\") == 0.5, \"False Function\"\n",
    "    pytest.raises(ZeroDivisionError, Problem1_c.operate, a=1, b=0, oper='/')\n",
    "    pytest.raises(TypeError, Problem1_c.operate, a=1, b=1, oper=1)\n",
    "    pytest.raises(ValueError, Problem1_c.operate, a=1, b=1, oper=\"1\")"
   ]
  },
  {
   "cell_type": "code",
   "execution_count": 11,
   "metadata": {},
   "outputs": [
    {
     "name": "stdout",
     "output_type": "stream",
     "text": [
      "============================= test session starts =============================\n",
      "platform win32 -- Python 3.6.4, pytest-4.0.0, py-1.7.0, pluggy-0.8.0\n",
      "rootdir: C:\\Users\\ccb\\Desktop\\Perspective\\persp-analysis_A18\\Assignments\\A7\\Problem 1, inifile:\n",
      "plugins: cov-2.6.0\n",
      "collected 3 items\n",
      "\n",
      "test_Problem1_a.py F                                                     [ 33%]\n",
      "test_Problem1_b.py .                                                     [ 66%]\n",
      "test_Problem1_c.py .                                                     [100%]\n",
      "\n",
      "================================== FAILURES ===================================\n",
      "__________________________________ test_case __________________________________\n",
      "\n",
      "    def test_case():\n",
      ">       assert Problem1_a.smallest_factor(9) == 3, \"failed on 9\"\n",
      "E       AssertionError: failed on 9\n",
      "E       assert 9 == 3\n",
      "E        +  where 9 = <function smallest_factor at 0x000001CDD91827B8>(9)\n",
      "E        +    where <function smallest_factor at 0x000001CDD91827B8> = Problem1_a.smallest_factor\n",
      "\n",
      "test_Problem1_a.py:3: AssertionError\n",
      "\n",
      "----------- coverage: platform win32, python 3.6.4-final-0 -----------\n",
      "Name                 Stmts   Miss  Cover\n",
      "----------------------------------------\n",
      "Problem1_a.py            5      0   100%\n",
      "Problem1_b.py           10      0   100%\n",
      "Problem1_c.py           14      0   100%\n",
      "test_Problem1_a.py       3      0   100%\n",
      "test_Problem1_b.py       7      0   100%\n",
      "test_Problem1_c.py       9      0   100%\n",
      "----------------------------------------\n",
      "TOTAL                   48      0   100%\n",
      "\n",
      "===================== 1 failed, 2 passed in 0.09 seconds ======================\n"
     ]
    }
   ],
   "source": [
    "! py.test --cov"
   ]
  }
 ],
 "metadata": {
  "kernelspec": {
   "display_name": "Python 3",
   "language": "python",
   "name": "python3"
  },
  "language_info": {
   "codemirror_mode": {
    "name": "ipython",
    "version": 3
   },
   "file_extension": ".py",
   "mimetype": "text/x-python",
   "name": "python",
   "nbconvert_exporter": "python",
   "pygments_lexer": "ipython3",
   "version": "3.6.4"
  }
 },
 "nbformat": 4,
 "nbformat_minor": 1
}
