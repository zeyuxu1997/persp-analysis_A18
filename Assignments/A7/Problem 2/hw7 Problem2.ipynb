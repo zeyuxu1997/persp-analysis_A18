{
 "cells": [
  {
   "cell_type": "markdown",
   "metadata": {},
   "source": [
    "# Assignment 7   Part 2"
   ]
  },
  {
   "cell_type": "markdown",
   "metadata": {},
   "source": [
    "### MACS 30000, Dr. Evans\n",
    "### Zeyu Xu"
   ]
  },
  {
   "cell_type": "markdown",
   "metadata": {},
   "source": [
    "Due Monday, Nov. 26 at 11:30 AM"
   ]
  },
  {
   "cell_type": "markdown",
   "metadata": {},
   "source": [
    "### 2. Test driven development"
   ]
  },
  {
   "cell_type": "markdown",
   "metadata": {},
   "source": [
    "#### (b) Here is my code to build get_r.py."
   ]
  },
  {
   "cell_type": "code",
   "execution_count": 1,
   "metadata": {},
   "outputs": [],
   "source": [
    "import numpy as np\n",
    "def get_r(K, L, alpha, Z, delta):\n",
    "    '''This function generates the interest rate or vector of interest rates'''\n",
    "    if type(K) == type(L) and 0 < alpha < 1 and 0 < delta < 1 and Z > 0:\n",
    "        if K > 0 and L > 0:\n",
    "            r = alpha * Z * ( L / K ) ** ( 1 - alpha) - delta\n",
    "            return r\n",
    "        elif len(K) == len(L):\n",
    "            r = np.zeros(len(K))\n",
    "            for i in range(len(K)):\n",
    "                if K[i] <= 0 or L[i] <=0:\n",
    "                    return\n",
    "                else:\n",
    "                    r[i] = alpha * Z * ( L[i] / K[i] ) ** ( 1 - alpha) - delta\n",
    "            return r  \n",
    "        else:\n",
    "            return\n",
    "    else:\n",
    "        return"
   ]
  },
  {
   "cell_type": "markdown",
   "metadata": {},
   "source": [
    "#### (c) Here is my pytest code and result."
   ]
  },
  {
   "cell_type": "code",
   "execution_count": 2,
   "metadata": {},
   "outputs": [
    {
     "name": "stdout",
     "output_type": "stream",
     "text": [
      "============================= test session starts =============================\n",
      "platform win32 -- Python 3.6.4, pytest-4.0.0, py-1.7.0, pluggy-0.8.0\n",
      "rootdir: C:\\Users\\ccb\\Desktop\\Perspective\\persp-analysis_A18\\Assignments\\A7\\Problem 2, inifile:\n",
      "plugins: cov-2.6.0\n",
      "collected 244 items\n",
      "\n",
      "test_r.py .............................................................. [ 25%]\n",
      "........................................................................ [ 54%]\n",
      "........................................................................ [ 84%]\n",
      "......................................                                   [100%]\n",
      "\n",
      "========================= 244 passed in 0.53 seconds ==========================\n"
     ]
    }
   ],
   "source": [
    "! py.test"
   ]
  }
 ],
 "metadata": {
  "kernelspec": {
   "display_name": "Python 3",
   "language": "python",
   "name": "python3"
  },
  "language_info": {
   "codemirror_mode": {
    "name": "ipython",
    "version": 3
   },
   "file_extension": ".py",
   "mimetype": "text/x-python",
   "name": "python",
   "nbconvert_exporter": "python",
   "pygments_lexer": "ipython3",
   "version": "3.6.4"
  }
 },
 "nbformat": 4,
 "nbformat_minor": 1
}
