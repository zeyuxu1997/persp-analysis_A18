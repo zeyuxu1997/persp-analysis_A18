{
 "cells": [
  {
   "cell_type": "markdown",
   "metadata": {},
   "source": [
    "# Assignment 2"
   ]
  },
  {
   "cell_type": "markdown",
   "metadata": {},
   "source": [
    "### MACS 30000, Dr. Evans\n",
    "### Zeyu Xu"
   ]
  },
  {
   "cell_type": "markdown",
   "metadata": {},
   "source": [
    "Due Wednesday, Oct. 17 at 11:30 AM"
   ]
  },
  {
   "cell_type": "code",
   "execution_count": 2,
   "metadata": {},
   "outputs": [
    {
     "name": "stderr",
     "output_type": "stream",
     "text": [
      "C:\\ProgramData\\Anaconda3\\lib\\site-packages\\statsmodels\\compat\\pandas.py:56: FutureWarning: The pandas.core.datetools module is deprecated and will be removed in a future version. Please use the pandas.tseries module instead.\n",
      "  from pandas.core import datetools\n"
     ]
    }
   ],
   "source": [
    "# Import packages\n",
    "import numpy as np\n",
    "import pandas as pd\n",
    "import statsmodels.api as sm\n",
    "import matplotlib.pyplot as plt"
   ]
  },
  {
   "cell_type": "markdown",
   "metadata": {},
   "source": [
    "### 1. Imputing age and gender"
   ]
  },
  {
   "cell_type": "markdown",
   "metadata": {},
   "source": [
    "#### (a) Here is where I will describe my proposed strategy ... and so on and so forth."
   ]
  },
  {
   "cell_type": "markdown",
   "metadata": {
    "collapsed": true
   },
   "source": [
    "Regress 'age' and 'female' on 'weight' and 'total income' using the data from SurveyIncome.txt.\n",
    "Using linear model for 'age' and logit model for 'female'.\n",
    "Then use regression functions to predict 'age' and 'female' variable in BestIncome.txt."
   ]
  },
  {
   "cell_type": "markdown",
   "metadata": {},
   "source": [
    "#### (b) Here is where I'll use my proposed method from part (a) to impute variables."
   ]
  },
  {
   "cell_type": "code",
   "execution_count": 3,
   "metadata": {},
   "outputs": [
    {
     "name": "stdout",
     "output_type": "stream",
     "text": [
      "Optimization terminated successfully.\n",
      "         Current function value: 0.036050\n",
      "         Iterations 11\n"
     ]
    },
    {
     "name": "stderr",
     "output_type": "stream",
     "text": [
      "C:\\ProgramData\\Anaconda3\\lib\\site-packages\\ipykernel_launcher.py:14: SettingWithCopyWarning: \n",
      "A value is trying to be set on a copy of a slice from a DataFrame\n",
      "\n",
      "See the caveats in the documentation: http://pandas.pydata.org/pandas-docs/stable/indexing.html#indexing-view-versus-copy\n",
      "  \n",
      "C:\\ProgramData\\Anaconda3\\lib\\site-packages\\ipykernel_launcher.py:15: SettingWithCopyWarning: \n",
      "A value is trying to be set on a copy of a slice from a DataFrame\n",
      "\n",
      "See the caveats in the documentation: http://pandas.pydata.org/pandas-docs/stable/indexing.html#indexing-view-versus-copy\n",
      "  from ipykernel import kernelapp as app\n"
     ]
    }
   ],
   "source": [
    "df = pd.read_csv(\"SurvIncome.txt\", index_col=0, header = None).reset_index()\n",
    "df.columns = ['tot_inc','wgt','age','female']\n",
    "df['const'] = 1\n",
    "reg1 = sm.OLS(endog=df['age'],exog=df[['tot_inc','wgt','const']], missing='drop')\n",
    "result1 = reg1.fit()\n",
    "reg2 = sm.Logit(endog=df['female'], exog=df[['tot_inc','wgt','const']], missing='drop')\n",
    "result2 = reg2.fit()\n",
    "df2 = pd.read_csv(\"BestIncome.txt\", index_col=0, header = None).reset_index()\n",
    "df2.columns = ['lab_inc','cap_inc','hgt','wgt']\n",
    "df2['const'] = 1\n",
    "df2['tot_inc'] = df2['lab_inc']+df2['cap_inc']\n",
    "df2['age'] = result1.predict(exog=df2[['tot_inc','wgt','const']])\n",
    "df2['female'] = result2.predict(exog=df2[['tot_inc','wgt','const']])\n",
    "df2['female'][df2['female']>=0.5] = 1\n",
    "df2['female'][df2['female']<0.5] = 0"
   ]
  },
  {
   "cell_type": "markdown",
   "metadata": {},
   "source": [
    "#### (c) Here is where I'll report the descriptive statistics for my new imputed variables."
   ]
  },
  {
   "cell_type": "code",
   "execution_count": 4,
   "metadata": {},
   "outputs": [
    {
     "name": "stdout",
     "output_type": "stream",
     "text": [
      "count    10000.000000\n",
      "mean        44.890828\n",
      "std          0.219150\n",
      "min         43.976495\n",
      "25%         44.743776\n",
      "50%         44.886944\n",
      "75%         45.038991\n",
      "max         45.703819\n",
      "Name: age, dtype: float64\n",
      "count    10000.000000\n",
      "mean         0.454600\n",
      "std          0.497959\n",
      "min          0.000000\n",
      "25%          0.000000\n",
      "50%          0.000000\n",
      "75%          1.000000\n",
      "max          1.000000\n",
      "Name: female, dtype: float64\n"
     ]
    }
   ],
   "source": [
    "print(df2['age'].describe())\n",
    "print(df2['female'].describe())"
   ]
  },
  {
   "cell_type": "markdown",
   "metadata": {},
   "source": [
    "#### (d) Correlation matrix for the now six variables"
   ]
  },
  {
   "cell_type": "code",
   "execution_count": 5,
   "metadata": {},
   "outputs": [
    {
     "data": {
      "text/html": [
       "<style  type=\"text/css\" >\n",
       "    #T_81a81c66_d0a5_11e8_8f6e_5c5f67f3dc83row0_col0 {\n",
       "            background-color:  #023858;\n",
       "        }    #T_81a81c66_d0a5_11e8_8f6e_5c5f67f3dc83row0_col1 {\n",
       "            background-color:  #f5eff6;\n",
       "        }    #T_81a81c66_d0a5_11e8_8f6e_5c5f67f3dc83row0_col2 {\n",
       "            background-color:  #eee8f3;\n",
       "        }    #T_81a81c66_d0a5_11e8_8f6e_5c5f67f3dc83row0_col3 {\n",
       "            background-color:  #8eb3d5;\n",
       "        }    #T_81a81c66_d0a5_11e8_8f6e_5c5f67f3dc83row0_col4 {\n",
       "            background-color:  #03476f;\n",
       "        }    #T_81a81c66_d0a5_11e8_8f6e_5c5f67f3dc83row0_col5 {\n",
       "            background-color:  #bcc7e1;\n",
       "        }    #T_81a81c66_d0a5_11e8_8f6e_5c5f67f3dc83row1_col0 {\n",
       "            background-color:  #e0dded;\n",
       "        }    #T_81a81c66_d0a5_11e8_8f6e_5c5f67f3dc83row1_col1 {\n",
       "            background-color:  #023858;\n",
       "        }    #T_81a81c66_d0a5_11e8_8f6e_5c5f67f3dc83row1_col2 {\n",
       "            background-color:  #ebe6f2;\n",
       "        }    #T_81a81c66_d0a5_11e8_8f6e_5c5f67f3dc83row1_col3 {\n",
       "            background-color:  #8eb3d5;\n",
       "        }    #T_81a81c66_d0a5_11e8_8f6e_5c5f67f3dc83row1_col4 {\n",
       "            background-color:  #97b7d7;\n",
       "        }    #T_81a81c66_d0a5_11e8_8f6e_5c5f67f3dc83row1_col5 {\n",
       "            background-color:  #9ebad9;\n",
       "        }    #T_81a81c66_d0a5_11e8_8f6e_5c5f67f3dc83row2_col0 {\n",
       "            background-color:  #e0deed;\n",
       "        }    #T_81a81c66_d0a5_11e8_8f6e_5c5f67f3dc83row2_col1 {\n",
       "            background-color:  #f3edf5;\n",
       "        }    #T_81a81c66_d0a5_11e8_8f6e_5c5f67f3dc83row2_col2 {\n",
       "            background-color:  #023858;\n",
       "        }    #T_81a81c66_d0a5_11e8_8f6e_5c5f67f3dc83row2_col3 {\n",
       "            background-color:  #65a3cb;\n",
       "        }    #T_81a81c66_d0a5_11e8_8f6e_5c5f67f3dc83row2_col4 {\n",
       "            background-color:  #dcdaeb;\n",
       "        }    #T_81a81c66_d0a5_11e8_8f6e_5c5f67f3dc83row2_col5 {\n",
       "            background-color:  #abbfdc;\n",
       "        }    #T_81a81c66_d0a5_11e8_8f6e_5c5f67f3dc83row3_col0 {\n",
       "            background-color:  #e0dded;\n",
       "        }    #T_81a81c66_d0a5_11e8_8f6e_5c5f67f3dc83row3_col1 {\n",
       "            background-color:  #f5eff6;\n",
       "        }    #T_81a81c66_d0a5_11e8_8f6e_5c5f67f3dc83row3_col2 {\n",
       "            background-color:  #cacee5;\n",
       "        }    #T_81a81c66_d0a5_11e8_8f6e_5c5f67f3dc83row3_col3 {\n",
       "            background-color:  #023858;\n",
       "        }    #T_81a81c66_d0a5_11e8_8f6e_5c5f67f3dc83row3_col4 {\n",
       "            background-color:  #fff7fb;\n",
       "        }    #T_81a81c66_d0a5_11e8_8f6e_5c5f67f3dc83row3_col5 {\n",
       "            background-color:  #fff7fb;\n",
       "        }    #T_81a81c66_d0a5_11e8_8f6e_5c5f67f3dc83row4_col0 {\n",
       "            background-color:  #034871;\n",
       "        }    #T_81a81c66_d0a5_11e8_8f6e_5c5f67f3dc83row4_col1 {\n",
       "            background-color:  #c6cce3;\n",
       "        }    #T_81a81c66_d0a5_11e8_8f6e_5c5f67f3dc83row4_col2 {\n",
       "            background-color:  #f4eef6;\n",
       "        }    #T_81a81c66_d0a5_11e8_8f6e_5c5f67f3dc83row4_col3 {\n",
       "            background-color:  #cccfe5;\n",
       "        }    #T_81a81c66_d0a5_11e8_8f6e_5c5f67f3dc83row4_col4 {\n",
       "            background-color:  #023858;\n",
       "        }    #T_81a81c66_d0a5_11e8_8f6e_5c5f67f3dc83row4_col5 {\n",
       "            background-color:  #8bb2d4;\n",
       "        }    #T_81a81c66_d0a5_11e8_8f6e_5c5f67f3dc83row5_col0 {\n",
       "            background-color:  #fff7fb;\n",
       "        }    #T_81a81c66_d0a5_11e8_8f6e_5c5f67f3dc83row5_col1 {\n",
       "            background-color:  #fff7fb;\n",
       "        }    #T_81a81c66_d0a5_11e8_8f6e_5c5f67f3dc83row5_col2 {\n",
       "            background-color:  #fff7fb;\n",
       "        }    #T_81a81c66_d0a5_11e8_8f6e_5c5f67f3dc83row5_col3 {\n",
       "            background-color:  #fff7fb;\n",
       "        }    #T_81a81c66_d0a5_11e8_8f6e_5c5f67f3dc83row5_col4 {\n",
       "            background-color:  #d1d2e6;\n",
       "        }    #T_81a81c66_d0a5_11e8_8f6e_5c5f67f3dc83row5_col5 {\n",
       "            background-color:  #023858;\n",
       "        }</style>  \n",
       "<table id=\"T_81a81c66_d0a5_11e8_8f6e_5c5f67f3dc83\" > \n",
       "<thead>    <tr> \n",
       "        <th class=\"blank level0\" ></th> \n",
       "        <th class=\"col_heading level0 col0\" >lab_inc</th> \n",
       "        <th class=\"col_heading level0 col1\" >cap_inc</th> \n",
       "        <th class=\"col_heading level0 col2\" >hgt</th> \n",
       "        <th class=\"col_heading level0 col3\" >wgt</th> \n",
       "        <th class=\"col_heading level0 col4\" >age</th> \n",
       "        <th class=\"col_heading level0 col5\" >female</th> \n",
       "    </tr></thead> \n",
       "<tbody>    <tr> \n",
       "        <th id=\"T_81a81c66_d0a5_11e8_8f6e_5c5f67f3dc83level0_row0\" class=\"row_heading level0 row0\" >lab_inc</th> \n",
       "        <td id=\"T_81a81c66_d0a5_11e8_8f6e_5c5f67f3dc83row0_col0\" class=\"data row0 col0\" >1</td> \n",
       "        <td id=\"T_81a81c66_d0a5_11e8_8f6e_5c5f67f3dc83row0_col1\" class=\"data row0 col1\" >0.0053253</td> \n",
       "        <td id=\"T_81a81c66_d0a5_11e8_8f6e_5c5f67f3dc83row0_col2\" class=\"data row0 col2\" >0.00278978</td> \n",
       "        <td id=\"T_81a81c66_d0a5_11e8_8f6e_5c5f67f3dc83row0_col3\" class=\"data row0 col3\" >0.00450691</td> \n",
       "        <td id=\"T_81a81c66_d0a5_11e8_8f6e_5c5f67f3dc83row0_col4\" class=\"data row0 col4\" >0.924053</td> \n",
       "        <td id=\"T_81a81c66_d0a5_11e8_8f6e_5c5f67f3dc83row0_col5\" class=\"data row0 col5\" >-0.215469</td> \n",
       "    </tr>    <tr> \n",
       "        <th id=\"T_81a81c66_d0a5_11e8_8f6e_5c5f67f3dc83level0_row1\" class=\"row_heading level0 row1\" >cap_inc</th> \n",
       "        <td id=\"T_81a81c66_d0a5_11e8_8f6e_5c5f67f3dc83row1_col0\" class=\"data row1 col0\" >0.0053253</td> \n",
       "        <td id=\"T_81a81c66_d0a5_11e8_8f6e_5c5f67f3dc83row1_col1\" class=\"data row1 col1\" >1</td> \n",
       "        <td id=\"T_81a81c66_d0a5_11e8_8f6e_5c5f67f3dc83row1_col2\" class=\"data row1 col2\" >0.0215716</td> \n",
       "        <td id=\"T_81a81c66_d0a5_11e8_8f6e_5c5f67f3dc83row1_col3\" class=\"data row1 col3\" >0.00629868</td> \n",
       "        <td id=\"T_81a81c66_d0a5_11e8_8f6e_5c5f67f3dc83row1_col4\" class=\"data row1 col4\" >0.234159</td> \n",
       "        <td id=\"T_81a81c66_d0a5_11e8_8f6e_5c5f67f3dc83row1_col5\" class=\"data row1 col5\" >-0.0625691</td> \n",
       "    </tr>    <tr> \n",
       "        <th id=\"T_81a81c66_d0a5_11e8_8f6e_5c5f67f3dc83level0_row2\" class=\"row_heading level0 row2\" >hgt</th> \n",
       "        <td id=\"T_81a81c66_d0a5_11e8_8f6e_5c5f67f3dc83row2_col0\" class=\"data row2 col0\" >0.00278978</td> \n",
       "        <td id=\"T_81a81c66_d0a5_11e8_8f6e_5c5f67f3dc83row2_col1\" class=\"data row2 col1\" >0.0215716</td> \n",
       "        <td id=\"T_81a81c66_d0a5_11e8_8f6e_5c5f67f3dc83row2_col2\" class=\"data row2 col2\" >1</td> \n",
       "        <td id=\"T_81a81c66_d0a5_11e8_8f6e_5c5f67f3dc83row2_col3\" class=\"data row2 col3\" >0.172103</td> \n",
       "        <td id=\"T_81a81c66_d0a5_11e8_8f6e_5c5f67f3dc83row2_col4\" class=\"data row2 col4\" >-0.0450828</td> \n",
       "        <td id=\"T_81a81c66_d0a5_11e8_8f6e_5c5f67f3dc83row2_col5\" class=\"data row2 col5\" >-0.127416</td> \n",
       "    </tr>    <tr> \n",
       "        <th id=\"T_81a81c66_d0a5_11e8_8f6e_5c5f67f3dc83level0_row3\" class=\"row_heading level0 row3\" >wgt</th> \n",
       "        <td id=\"T_81a81c66_d0a5_11e8_8f6e_5c5f67f3dc83row3_col0\" class=\"data row3 col0\" >0.00450691</td> \n",
       "        <td id=\"T_81a81c66_d0a5_11e8_8f6e_5c5f67f3dc83row3_col1\" class=\"data row3 col1\" >0.00629868</td> \n",
       "        <td id=\"T_81a81c66_d0a5_11e8_8f6e_5c5f67f3dc83row3_col2\" class=\"data row3 col2\" >0.172103</td> \n",
       "        <td id=\"T_81a81c66_d0a5_11e8_8f6e_5c5f67f3dc83row3_col3\" class=\"data row3 col3\" >1</td> \n",
       "        <td id=\"T_81a81c66_d0a5_11e8_8f6e_5c5f67f3dc83row3_col4\" class=\"data row3 col4\" >-0.300288</td> \n",
       "        <td id=\"T_81a81c66_d0a5_11e8_8f6e_5c5f67f3dc83row3_col5\" class=\"data row3 col5\" >-0.763821</td> \n",
       "    </tr>    <tr> \n",
       "        <th id=\"T_81a81c66_d0a5_11e8_8f6e_5c5f67f3dc83level0_row4\" class=\"row_heading level0 row4\" >age</th> \n",
       "        <td id=\"T_81a81c66_d0a5_11e8_8f6e_5c5f67f3dc83row4_col0\" class=\"data row4 col0\" >0.924053</td> \n",
       "        <td id=\"T_81a81c66_d0a5_11e8_8f6e_5c5f67f3dc83row4_col1\" class=\"data row4 col1\" >0.234159</td> \n",
       "        <td id=\"T_81a81c66_d0a5_11e8_8f6e_5c5f67f3dc83row4_col2\" class=\"data row4 col2\" >-0.0450828</td> \n",
       "        <td id=\"T_81a81c66_d0a5_11e8_8f6e_5c5f67f3dc83row4_col3\" class=\"data row4 col3\" >-0.300288</td> \n",
       "        <td id=\"T_81a81c66_d0a5_11e8_8f6e_5c5f67f3dc83row4_col4\" class=\"data row4 col4\" >1</td> \n",
       "        <td id=\"T_81a81c66_d0a5_11e8_8f6e_5c5f67f3dc83row4_col5\" class=\"data row4 col5\" >0.0200595</td> \n",
       "    </tr>    <tr> \n",
       "        <th id=\"T_81a81c66_d0a5_11e8_8f6e_5c5f67f3dc83level0_row5\" class=\"row_heading level0 row5\" >female</th> \n",
       "        <td id=\"T_81a81c66_d0a5_11e8_8f6e_5c5f67f3dc83row5_col0\" class=\"data row5 col0\" >-0.215469</td> \n",
       "        <td id=\"T_81a81c66_d0a5_11e8_8f6e_5c5f67f3dc83row5_col1\" class=\"data row5 col1\" >-0.0625691</td> \n",
       "        <td id=\"T_81a81c66_d0a5_11e8_8f6e_5c5f67f3dc83row5_col2\" class=\"data row5 col2\" >-0.127416</td> \n",
       "        <td id=\"T_81a81c66_d0a5_11e8_8f6e_5c5f67f3dc83row5_col3\" class=\"data row5 col3\" >-0.763821</td> \n",
       "        <td id=\"T_81a81c66_d0a5_11e8_8f6e_5c5f67f3dc83row5_col4\" class=\"data row5 col4\" >0.0200595</td> \n",
       "        <td id=\"T_81a81c66_d0a5_11e8_8f6e_5c5f67f3dc83row5_col5\" class=\"data row5 col5\" >1</td> \n",
       "    </tr></tbody> \n",
       "</table> "
      ],
      "text/plain": [
       "<pandas.io.formats.style.Styler at 0x21bae738d68>"
      ]
     },
     "execution_count": 5,
     "metadata": {},
     "output_type": "execute_result"
    }
   ],
   "source": [
    "ols_df = df2[['lab_inc','cap_inc','hgt','wgt','age','female']]\n",
    "corr = ols_df.corr()\n",
    "corr.style.background_gradient()"
   ]
  },
  {
   "cell_type": "markdown",
   "metadata": {},
   "source": [
    "### 2. Stationarity and data drift"
   ]
  },
  {
   "cell_type": "markdown",
   "metadata": {},
   "source": [
    "#### (a) Estimate by OLS and report coefficients"
   ]
  },
  {
   "cell_type": "code",
   "execution_count": 6,
   "metadata": {},
   "outputs": [
    {
     "name": "stdout",
     "output_type": "stream",
     "text": [
      "                            OLS Regression Results                            \n",
      "==============================================================================\n",
      "Dep. Variable:              salary_p4   R-squared:                       0.263\n",
      "Model:                            OLS   Adj. R-squared:                  0.262\n",
      "Method:                 Least Squares   F-statistic:                     356.3\n",
      "Date:                Mon, 15 Oct 2018   Prob (F-statistic):           3.43e-68\n",
      "Time:                        13:09:51   Log-Likelihood:                -10673.\n",
      "No. Observations:                1000   AIC:                         2.135e+04\n",
      "Df Residuals:                     998   BIC:                         2.136e+04\n",
      "Df Model:                           1                                         \n",
      "Covariance Type:            nonrobust                                         \n",
      "==============================================================================\n",
      "                 coef    std err          t      P>|t|      [0.025      0.975]\n",
      "------------------------------------------------------------------------------\n",
      "gre_qnt      -25.7632      1.365    -18.875      0.000     -28.442     -23.085\n",
      "const       8.954e+04    878.764    101.895      0.000    8.78e+04    9.13e+04\n",
      "==============================================================================\n",
      "Omnibus:                        9.118   Durbin-Watson:                   1.424\n",
      "Prob(Omnibus):                  0.010   Jarque-Bera (JB):                9.100\n",
      "Skew:                           0.230   Prob(JB):                       0.0106\n",
      "Kurtosis:                       3.077   Cond. No.                     1.71e+03\n",
      "==============================================================================\n",
      "\n",
      "Warnings:\n",
      "[1] Standard Errors assume that the covariance matrix of the errors is correctly specified.\n",
      "[2] The condition number is large, 1.71e+03. This might indicate that there are\n",
      "strong multicollinearity or other numerical problems.\n"
     ]
    }
   ],
   "source": [
    "df3 = pd.read_csv(\"IncomeIntel.txt\", index_col=0, header = None).reset_index()\n",
    "df3.columns = ['grad_year','gre_qnt','salary_p4']\n",
    "df3['const'] = 1\n",
    "reg3 = sm.OLS(endog=df3['salary_p4'],exog=df3[['gre_qnt','const']], missing='drop')\n",
    "result3 = reg3.fit()\n",
    "print(result3.summary())"
   ]
  },
  {
   "cell_type": "markdown",
   "metadata": {},
   "source": [
    "#### (b) Create a scatterplot of GRE score and graduation year. "
   ]
  },
  {
   "cell_type": "code",
   "execution_count": 7,
   "metadata": {},
   "outputs": [
    {
     "data": {
      "image/png": "[encoded data removed]",
      "text/plain": [
       "<matplotlib.figure.Figure at 0x21badf289e8>"
      ]
     },
     "metadata": {},
     "output_type": "display_data"
    }
   ],
   "source": [
    "df3.plot(x='grad_year', y='gre_qnt', kind='scatter')\n",
    "plt.show()"
   ]
  },
  {
   "cell_type": "markdown",
   "metadata": {},
   "source": [
    "Here is where I'll discuss any problems that jump out. I'll propose a solution here as well."
   ]
  },
  {
   "cell_type": "markdown",
   "metadata": {
    "collapsed": true
   },
   "source": [
    "It shows there might be a system drift on \"gre_qnt\" on 2012,for all points of that year jumped from above 600 to less than 200.\n",
    "One solution is to find the official mapping function from grade of old version to that of new version on ETS homepage and use that to transform the grade of old version to that of new version. Then use new data for regression."
   ]
  },
  {
   "cell_type": "markdown",
   "metadata": {},
   "source": [
    "#### (c) Create a scatterplot of income and graduation year"
   ]
  },
  {
   "cell_type": "code",
   "execution_count": 8,
   "metadata": {},
   "outputs": [
    {
     "data": {
      "image/png": "[encoded data removed]",
      "text/plain": [
       "<matplotlib.figure.Figure at 0x21bae5ef4a8>"
      ]
     },
     "metadata": {},
     "output_type": "display_data"
    }
   ],
   "source": [
    "# Code and output of scatterplot\n",
    "df3.plot(x='grad_year', y='salary_p4', kind='scatter')\n",
    "plt.show()"
   ]
  },
  {
   "cell_type": "markdown",
   "metadata": {},
   "source": [
    "Here is where I'll discuss any problems again ... and propose another solution."
   ]
  },
  {
   "cell_type": "markdown",
   "metadata": {
    "collapsed": true
   },
   "source": [
    "There seems to be a trend for income. One way to solve that is to use 2001 as the base year and divide each year by the average growth rate raised to the t power, where t = grad_year - 2001."
   ]
  },
  {
   "cell_type": "markdown",
   "metadata": {},
   "source": [
    "#### (d) Re-estimate coefficients with updated variables."
   ]
  },
  {
   "cell_type": "code",
   "execution_count": 11,
   "metadata": {},
   "outputs": [
    {
     "name": "stderr",
     "output_type": "stream",
     "text": [
      "C:\\ProgramData\\Anaconda3\\lib\\site-packages\\ipykernel_launcher.py:17: SettingWithCopyWarning: \n",
      "A value is trying to be set on a copy of a slice from a DataFrame\n",
      "\n",
      "See the caveats in the documentation: http://pandas.pydata.org/pandas-docs/stable/indexing.html#indexing-view-versus-copy\n",
      "C:\\ProgramData\\Anaconda3\\lib\\site-packages\\ipykernel_launcher.py:19: SettingWithCopyWarning: \n",
      "A value is trying to be set on a copy of a slice from a DataFrame\n",
      "\n",
      "See the caveats in the documentation: http://pandas.pydata.org/pandas-docs/stable/indexing.html#indexing-view-versus-copy\n"
     ]
    },
    {
     "name": "stdout",
     "output_type": "stream",
     "text": [
      "                            OLS Regression Results                            \n",
      "==============================================================================\n",
      "Dep. Variable:             new_salary   R-squared:                       0.001\n",
      "Model:                            OLS   Adj. R-squared:                 -0.000\n",
      "Method:                 Least Squares   F-statistic:                    0.5576\n",
      "Date:                Mon, 15 Oct 2018   Prob (F-statistic):              0.455\n",
      "Time:                        13:12:37   Log-Likelihood:                -10291.\n",
      "No. Observations:                1000   AIC:                         2.059e+04\n",
      "Df Residuals:                     998   BIC:                         2.060e+04\n",
      "Df Model:                           1                                         \n",
      "Covariance Type:            nonrobust                                         \n",
      "===============================================================================\n",
      "                  coef    std err          t      P>|t|      [0.025      0.975]\n",
      "-------------------------------------------------------------------------------\n",
      "new_gre_qnt   -48.8918     65.474     -0.747      0.455    -177.374      79.591\n",
      "const        6.909e+04   1.03e+04      6.728      0.000    4.89e+04    8.92e+04\n",
      "==============================================================================\n",
      "Omnibus:                        0.759   Durbin-Watson:                   2.025\n",
      "Prob(Omnibus):                  0.684   Jarque-Bera (JB):                0.668\n",
      "Skew:                           0.058   Prob(JB):                        0.716\n",
      "Kurtosis:                       3.051   Cond. No.                     7.14e+03\n",
      "==============================================================================\n",
      "\n",
      "Warnings:\n",
      "[1] Standard Errors assume that the covariance matrix of the errors is correctly specified.\n",
      "[2] The condition number is large, 7.14e+03. This might indicate that there are\n",
      "strong multicollinearity or other numerical problems.\n"
     ]
    }
   ],
   "source": [
    "# Code to re-estimate, output of new coefficients\n",
    "def transform(x):\n",
    "    List1 = [800, 790, 780, 770, 760, 750, 740, 730, 720, 710, 690, 680, 670, 650, 630, 620, 600, 580, 560, 540, 520, 490, 470, 450, 420, 390, 370, 340, 320, 290, 270, 250, 230, 210, 200]\n",
    "    List2 = [166, 164, 163, 161, 160, 159, 158, 157, 156, 155, 154, 153, 152, 151, 150, 149, 148, 147, 146, 145, 144, 143, 142, 141, 140, 139, 138, 137, 136, 135, 134, 133, 132, 131]\n",
    "    if x < 200:\n",
    "        return x\n",
    "    if x == 200:\n",
    "        return 130\n",
    "    for i in range(len(List2)):\n",
    "        if x <= List1[i] and x > List1[i+1]:\n",
    "            return List2[i]  \n",
    "avg_inc_by_year = df3['salary_p4'].groupby(df3['grad_year']).mean().values\n",
    "avg_growth_rate = ((avg_inc_by_year[1:] - avg_inc_by_year[:-1]) / avg_inc_by_year[:-1]).mean()\n",
    "df3['new_salary'] = df3['salary_p4']\n",
    "df3['new_gre_qnt'] = 0\n",
    "for i in range(2002, 2014):\n",
    "    df3['new_salary'][df3['grad_year']==i] =  df3['salary_p4']/ ((1 + avg_growth_rate) ** (i - 2001))\n",
    "for k in range(len(df3['new_gre_qnt'])):\n",
    "    df3['new_gre_qnt'][k] = transform(df3['gre_qnt'][k])\n",
    "reg4 = sm.OLS(endog=df3['new_salary'],exog=df3[['new_gre_qnt','const']], missing='drop')\n",
    "result4 = reg4.fit()\n",
    "print(result4.summary())"
   ]
  },
  {
   "cell_type": "markdown",
   "metadata": {},
   "source": [
    "Here is where I'll discuss how the coefficients differ, where I'll interpret why the changes  result in new coefficient changes, and where I'll discuss what this suggests about the answer to the question."
   ]
  },
  {
   "cell_type": "markdown",
   "metadata": {},
   "source": [
    "The coefficient of 'new_gre_qnt' represent for by how much student's income 4 years after graduation will increase for 1 more point of GRE quantative 170-scale grade. The coefficient becomes insignificant while still negative, which is better than the siginificant negative coefficients in previous regression which is contradict to our common sense that a person getting higher quantative grade in GRE is more intelligent and thus will have higher income. It suggests we have solve the problems mentioned before, and the previous uncommon results come from system drift and time trend."
   ]
  },
  {
   "cell_type": "markdown",
   "metadata": {},
   "source": [
    "### 3. Assessment of Kossinets and Watts."
   ]
  },
  {
   "cell_type": "markdown",
   "metadata": {},
   "source": [
    "See attached PDF. "
   ]
  },
  {
   "cell_type": "code",
   "execution_count": null,
   "metadata": {
    "collapsed": true
   },
   "outputs": [],
   "source": []
  }
 ],
 "metadata": {
  "kernelspec": {
   "display_name": "Python 3",
   "language": "python",
   "name": "python3"
  },
  "language_info": {
   "codemirror_mode": {
    "name": "ipython",
    "version": 3
   },
   "file_extension": ".py",
   "mimetype": "text/x-python",
   "name": "python",
   "nbconvert_exporter": "python",
   "pygments_lexer": "ipython3",
   "version": "3.6.4"
  }
 },
 "nbformat": 4,
 "nbformat_minor": 1
}
